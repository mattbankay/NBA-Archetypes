{
  "cells": [
    {
      "cell_type": "markdown",
      "id": "f4c9e9f5",
      "metadata": {
        "id": "f4c9e9f5"
      },
      "source": [
        "\n",
        "#Problem Description\n",
        "The goal of this project is to uncover the true archetypes of NBA players using unsupervised learning, without relying on traditional positional labels. Instead of using predefined roles like \"point guard\" or \"center\", we cluster players based on statistical tendencies to discover data-driven roles that emerge naturally from performance patterns.\n",
        "\n",
        "This analysis focuses on regular season NBA games from 2020 onward, using one row per player-game performance. To avoid skewing results with limited data, only players with sufficient minutes played are retained. The outcome is intended to give coaches, analysts, and fans insight into the real, evolving structure of modern basketball.\n"
      ]
    },
    {
      "cell_type": "markdown",
      "source": [
        "Core performance stats were selected:\n",
        "\n",
        "Scoring attempts and efficiency: fieldGoalsAttempted, fieldGoalsPercentage, threePointersAttempted, threePointersPercentage, freeThrowsAttempted, freeThrowsPercentage\n",
        "\n",
        "Counting stats: points, assists, reboundsTotal, steals, blocks, numMinutes\n",
        "\n",
        "Then we engineered percentage-based features to normalize contribution across players:\n",
        "\n",
        "pts_pct: % of a player's statistical contribution that is scoring\n",
        "\n",
        "ast_pct: % of a player's contribution from assists\n",
        "\n",
        "reb_pct: % from rebounding\n",
        "\n",
        "stl_pct, blk_pct: % from steals and blocks\n",
        "\n",
        "These percent-based features allow fair comparison between bigs, guards, and hybrids — making it easier to identify role patterns independent of raw box score volume."
      ],
      "metadata": {
        "id": "2G9h0Mkzk8ND"
      },
      "id": "2G9h0Mkzk8ND"
    },
    {
      "cell_type": "code",
      "execution_count": 1,
      "id": "5e943fec",
      "metadata": {
        "colab": {
          "base_uri": "https://localhost:8080/"
        },
        "id": "5e943fec",
        "outputId": "05b6f7d1-eb31-4f45-a4fe-d61a507e9027"
      },
      "outputs": [
        {
          "output_type": "stream",
          "name": "stdout",
          "text": [
            "Mounted at /content/drive\n"
          ]
        },
        {
          "output_type": "stream",
          "name": "stderr",
          "text": [
            "/tmp/ipython-input-1-4003963999.py:7: DtypeWarning: Columns (10,11) have mixed types. Specify dtype option on import or set low_memory=False.\n",
            "  df = pd.read_csv('/content/drive/MyDrive/NBADatabase/PlayerStatistics.csv')\n"
          ]
        }
      ],
      "source": [
        "\n",
        "from google.colab import drive\n",
        "drive.mount('/content/drive')\n",
        "\n",
        "import pandas as pd\n",
        "import numpy as np\n",
        "\n",
        "df = pd.read_csv('/content/drive/MyDrive/NBADatabase/PlayerStatistics.csv')\n",
        "df['gameDate'] = pd.to_datetime(df['gameDate'])\n",
        "df['season'] = df['gameDate'].dt.year\n",
        "df = df[(df['gameType'] == 'Regular Season') & (df['season'] >= 2020)].dropna()\n"
      ]
    },
    {
      "cell_type": "code",
      "execution_count": 5,
      "id": "5a0a9f12",
      "metadata": {
        "id": "5a0a9f12"
      },
      "outputs": [],
      "source": [
        "\n",
        "df['total_stats'] = df[['points', 'assists', 'reboundsTotal', 'steals', 'blocks']].sum(axis=1)\n",
        "df['pts_pct'] = df['points'] / df['total_stats']\n",
        "df['ast_pct'] = df['assists'] / df['total_stats']\n",
        "df['reb_pct'] = df['reboundsTotal'] / df['total_stats']\n",
        "df['stl_pct'] = df['steals'] / df['total_stats']\n",
        "df['blk_pct'] = df['blocks'] / df['total_stats']\n",
        "\n",
        "df = df.replace([np.inf, -np.inf], np.nan).dropna()"
      ]
    },
    {
      "cell_type": "code",
      "execution_count": 6,
      "id": "b4707147",
      "metadata": {
        "id": "b4707147"
      },
      "outputs": [],
      "source": [
        "\n",
        "agg_df = df.groupby(['firstName', 'lastName', 'season'], as_index=False)[\n",
        "    ['numMinutes', 'points', 'assists', 'reboundsTotal', 'steals', 'blocks',\n",
        "     'fieldGoalsAttempted', 'fieldGoalsPercentage',\n",
        "     'threePointersAttempted', 'threePointersPercentage',\n",
        "     'freeThrowsAttempted', 'freeThrowsPercentage',\n",
        "     'pts_pct', 'ast_pct', 'reb_pct', 'stl_pct', 'blk_pct']\n",
        "].mean()\n",
        "\n",
        "feature_cols = ['numMinutes', 'fieldGoalsAttempted', 'fieldGoalsPercentage',\n",
        "                'threePointersAttempted', 'threePointersPercentage',\n",
        "                'freeThrowsAttempted', 'freeThrowsPercentage',\n",
        "                'pts_pct', 'ast_pct', 'reb_pct', 'stl_pct', 'blk_pct']\n",
        "X = agg_df[feature_cols].copy()\n"
      ]
    },
    {
      "cell_type": "code",
      "execution_count": 7,
      "id": "2a3716e7",
      "metadata": {
        "colab": {
          "base_uri": "https://localhost:8080/"
        },
        "id": "2a3716e7",
        "outputId": "ec6f2af2-43c0-4d38-c0db-8d490267f980"
      },
      "outputs": [
        {
          "output_type": "stream",
          "name": "stderr",
          "text": [
            "/usr/local/lib/python3.11/dist-packages/sklearn/utils/deprecation.py:151: FutureWarning: 'force_all_finite' was renamed to 'ensure_all_finite' in 1.6 and will be removed in 1.8.\n",
            "  warnings.warn(\n",
            "/usr/local/lib/python3.11/dist-packages/umap/umap_.py:1952: UserWarning: n_jobs value 1 overridden to 1 by setting random_state. Use no seed for parallelism.\n",
            "  warn(\n"
          ]
        }
      ],
      "source": [
        "\n",
        "from sklearn.preprocessing import StandardScaler\n",
        "from sklearn.cluster import KMeans\n",
        "from sklearn.metrics import silhouette_score\n",
        "import umap.umap_ as umap\n",
        "\n",
        "scaler = StandardScaler()\n",
        "X_scaled = StandardScaler().fit_transform(X)\n",
        "\n",
        "reducer = umap.UMAP(n_components=3, random_state=42)\n",
        "embedding = reducer.fit_transform(X_scaled)\n",
        "agg_df['UMAP1'], agg_df['UMAP2'], agg_df['UMAP3'] = embedding[:,0], embedding[:,1], embedding[:,2]\n",
        "\n",
        "best_score, best_k = -1, None\n",
        "for k in range(6, 15):\n",
        "    labels = KMeans(n_clusters=k, random_state=42, n_init='auto').fit_predict(X_scaled)\n",
        "    score = silhouette_score(X_scaled, labels)\n",
        "    if score > best_score:\n",
        "        best_score, best_k = score, k\n",
        "\n",
        "kmeans = KMeans(n_clusters=best_k, random_state=42, n_init='auto')\n",
        "agg_df['cluster'] = kmeans.fit_predict(X_scaled)\n"
      ]
    },
    {
      "cell_type": "code",
      "execution_count": 8,
      "id": "320ce764",
      "metadata": {
        "id": "320ce764"
      },
      "outputs": [],
      "source": [
        "\n",
        "valid_clusters = agg_df['cluster'].value_counts()[lambda x: x >= 10].index\n",
        "agg_df = agg_df[agg_df['cluster'].isin(valid_clusters)].copy()\n",
        "X_scaled = X_scaled[agg_df.index]\n"
      ]
    },
    {
      "cell_type": "code",
      "execution_count": 9,
      "id": "34bc3b29",
      "metadata": {
        "colab": {
          "base_uri": "https://localhost:8080/",
          "height": 542
        },
        "id": "34bc3b29",
        "outputId": "88148ca4-4575-43e7-fa34-6c9ec64374a3"
      },
      "outputs": [
        {
          "output_type": "display_data",
          "data": {
            "text/html": [
              "<html>\n",
              "<head><meta charset=\"utf-8\" /></head>\n",
              "<body>\n",
              "    <div>            <script src=\"https://cdnjs.cloudflare.com/ajax/libs/mathjax/2.7.5/MathJax.js?config=TeX-AMS-MML_SVG\"></script><script type=\"text/javascript\">if (window.MathJax && window.MathJax.Hub && window.MathJax.Hub.Config) {window.MathJax.Hub.Config({SVG: {font: \"STIX-Web\"}});}</script>                <script type=\"text/javascript\">window.PlotlyConfig = {MathJaxConfig: 'local'};</script>\n",
              "        <script charset=\"utf-8\" src=\"https://cdn.plot.ly/plotly-2.35.2.min.js\"></script>                <div id=\"94da028a-c694-4ad4-9451-a49a88a78e22\" class=\"plotly-graph-div\" style=\"height:525px; width:100%;\"></div>            <script type=\"text/javascript\">                                    window.PLOTLYENV=window.PLOTLYENV || {};                                    if (document.getElementById(\"94da028a-c694-4ad4-9451-a49a88a78e22\")) {                    Plotly.newPlot(                        \"94da028a-c694-4ad4-9451-a49a88a78e22\",                        [{\"hovertemplate\":\"\\u003cb\\u003e%{hovertext}\\u003c\\u002fb\\u003e\\u003cbr\\u003e\\u003cbr\\u003eUMAP1=%{x}\\u003cbr\\u003eUMAP2=%{y}\\u003cbr\\u003eUMAP3=%{z}\\u003cbr\\u003ecluster=%{marker.color}\\u003cextra\\u003e\\u003c\\u002fextra\\u003e\",\"hovertext\":[\"AJ Green (2024)\",\"AJ Johnson (2024)\",\"Aaron Gordon (2024)\",\"Aaron Holiday (2024)\",\"Aaron Wiggins (2024)\",\"Adam Flagler (2024)\",\"Adem Bona (2024)\",\"Ajay Mitchell (2024)\",\"Al Horford (2024)\",\"Alec Burks (2024)\",\"Alex Caruso (2024)\",\"Alex Len (2024)\",\"Alex Sarr (2024)\",\"Alperen Sengun (2024)\",\"Amen Thompson (2024)\",\"Amir Coffey (2024)\",\"Andre Drummond (2024)\",\"Andre Jackson Jr. (2024)\",\"Andrew Nembhard (2024)\",\"Andrew Wiggins (2024)\",\"Anfernee Simons (2024)\",\"Anthony Black (2024)\",\"Anthony Davis (2024)\",\"Anthony Edwards (2024)\",\"Anthony Gill (2024)\",\"Antonio Reeves (2024)\",\"Ariel Hukporti (2024)\",\"Ausar Thompson (2024)\",\"Austin Reaves (2024)\",\"Ayo Dosunmu (2024)\",\"Bam Adebayo (2024)\",\"Ben Sheppard (2024)\",\"Ben Simmons (2024)\",\"Bennedict Mathurin (2024)\",\"Bilal Coulibaly (2024)\",\"Blake Wesley (2024)\",\"Bobby Portis (2024)\",\"Bogdan Bogdanovic (2024)\",\"Bol Bol (2024)\",\"Bones Hyland (2024)\",\"Bradley Beal (2024)\",\"Branden Carlson (2024)\",\"Brandin Podziemski (2024)\",\"Brandon Boston Jr. (2024)\",\"Brandon Clarke (2024)\",\"Brandon Ingram (2024)\",\"Brandon Miller (2024)\",\"Brice Sensabaugh (2024)\",\"Brook Lopez (2024)\",\"Bruno Fernando (2024)\",\"Bub Carrington (2024)\",\"Buddy Hield (2024)\",\"CJ McCollum (2024)\",\"Cade Cunningham (2024)\",\"Caleb Houstan (2024)\",\"Caleb Martin (2024)\",\"Cam Reddish (2024)\",\"Cam Thomas (2024)\",\"Cameron Johnson (2024)\",\"Cameron Payne (2024)\",\"Caris LeVert (2024)\",\"Cason Wallace (2024)\",\"Charles Bassey (2024)\",\"Chris Boucher (2024)\",\"Chris Duarte (2024)\",\"Chris Livingston (2024)\",\"Chris Paul (2024)\",\"Christian Braun (2024)\",\"Christian Koloko (2024)\",\"Clint Capela (2024)\",\"Coby White (2024)\",\"Cody Martin (2024)\",\"Cody Williams (2024)\",\"Colby Jones (2024)\",\"Cole Anthony (2024)\",\"Collin Sexton (2024)\",\"Corey Kispert (2024)\",\"Cory Joseph (2024)\",\"Craig Porter Jr. (2024)\",\"D'Angelo Russell (2024)\",\"Dalano Banton (2024)\",\"Dalen Terry (2024)\",\"Dalton Knecht (2024)\",\"Damian Lillard (2024)\",\"Damion Lee (2024)\",\"Daniel Gafford (2024)\",\"Daniel Theis (2024)\",\"Dario Saric (2024)\",\"Darius Garland (2024)\",\"David Roddy (2024)\",\"Davion Mitchell (2024)\",\"De'Aaron Fox (2024)\",\"De'Andre Hunter (2024)\",\"De'Anthony Melton (2024)\",\"DeAndre Jordan (2024)\",\"DeMar DeRozan (2024)\",\"Dean Wade (2024)\",\"Deandre Ayton (2024)\",\"Dejounte Murray (2024)\",\"Delon Wright (2024)\",\"Deni Avdija (2024)\",\"Dennis Schroder (2024)\",\"Dereck Lively II (2024)\",\"Derrick Jones Jr. (2024)\",\"Derrick White (2024)\",\"Desmond Bane (2024)\",\"Devin Booker (2024)\",\"Devin Vassell (2024)\",\"Dillon Brooks (2024)\",\"Dillon Jones (2024)\",\"Domantas Sabonis (2024)\",\"Donovan Clingan (2024)\",\"Donovan Mitchell (2024)\",\"Donte DiVincenzo (2024)\",\"Dorian Finney-Smith (2024)\",\"Doug McDermott (2024)\",\"Draymond Green (2024)\",\"Drew Eubanks (2024)\",\"Duncan Robinson (2024)\",\"Duop Reath (2024)\",\"Dwight Powell (2024)\",\"Dyson Daniels (2024)\",\"E.J. Liddell (2024)\",\"Elfrid Payton (2024)\",\"Enrique Freeman (2024)\",\"Eric Gordon (2024)\",\"Evan Mobley (2024)\",\"Franz Wagner (2024)\",\"Fred VanVleet (2024)\",\"Gabe Vincent (2024)\",\"Garrett Temple (2024)\",\"Garrison Mathews (2024)\",\"Gary Harris (2024)\",\"Gary Payton II (2024)\",\"Gary Trent Jr. (2024)\",\"Georges Niang (2024)\",\"Giannis Antetokounmpo (2024)\",\"Gradey Dick (2024)\",\"Grant Williams (2024)\",\"Grayson Allen (2024)\",\"Guerschon Yabusele (2024)\",\"Harrison Barnes (2024)\",\"Haywood Highsmith (2024)\",\"Isaac Jones (2024)\",\"Isaac Okoro (2024)\",\"Isaiah Collier (2024)\",\"Isaiah Hartenstein (2024)\",\"Isaiah Joe (2024)\",\"Isaiah Stewart (2024)\",\"Ivica Zubac (2024)\",\"Ja Morant (2024)\",\"Ja'Kobe Walter (2024)\",\"Jabari Smith Jr. (2024)\",\"Jabari Walker (2024)\",\"Jack McVeigh (2024)\",\"Jaden Hardy (2024)\",\"Jaden Ivey (2024)\",\"Jaden McDaniels (2024)\",\"Jae Crowder (2024)\",\"Jae'Sean Tate (2024)\",\"Jaime Jaquez Jr. (2024)\",\"Jake LaRavia (2024)\",\"Jakob Poeltl (2024)\",\"Jalen Brunson (2024)\",\"Jalen Duren (2024)\",\"Jalen Green (2024)\",\"Jalen Johnson (2024)\",\"Jalen Smith (2024)\",\"Jalen Suggs (2024)\",\"Jalen Williams (2024)\",\"Jalen Wilson (2024)\",\"Jamal Cain (2024)\",\"Jamal Murray (2024)\",\"Jamal Shead (2024)\",\"James Harden (2024)\",\"Jamison Battle (2024)\",\"Jarace Walker (2024)\",\"Jared Butler (2024)\",\"Jared McCain (2024)\",\"Jaren Jackson Jr. (2024)\",\"Jarrett Allen (2024)\",\"Javonte Green (2024)\",\"Jaxson Hayes (2024)\",\"Jay Huff (2024)\",\"Jaylen Brown (2024)\",\"Jaylen Nowell (2024)\",\"Jaylen Wells (2024)\",\"Jaylon Tyson (2024)\",\"Jayson Tatum (2024)\",\"Jeff Dowtin Jr. (2024)\",\"Jeff Green (2024)\",\"Jerami Grant (2024)\",\"Jeremiah Robinson-Earl (2024)\",\"Jeremy Sochan (2024)\",\"Jericho Sims (2024)\",\"Jett Howard (2024)\",\"Jevon Carter (2024)\",\"Jimmy Butler (2024)\",\"Jock Landale (2024)\",\"Joel Embiid (2024)\",\"John Collins (2024)\",\"John Konchar (2024)\",\"Johnny Davis (2024)\",\"Johnny Furphy (2024)\",\"Johnny Juzang (2024)\",\"Jonas Valanciunas (2024)\",\"Jonathan Isaac (2024)\",\"Jonathan Kuminga (2024)\",\"Jonathan Mogbo (2024)\",\"Jordan Clarkson (2024)\",\"Jordan Hawkins (2024)\",\"Jordan McLaughlin (2024)\",\"Jordan Miller (2024)\",\"Jordan Poole (2024)\",\"Jordan Walsh (2024)\",\"Josh Giddey (2024)\",\"Josh Green (2024)\",\"Josh Hart (2024)\",\"Josh Minott (2024)\",\"Josh Okogie (2024)\",\"Josh Richardson (2024)\",\"Jrue Holiday (2024)\",\"Julian Champagnie (2024)\",\"Julian Phillips (2024)\",\"Julian Strawther (2024)\",\"Julius Randle (2024)\",\"Jusuf Nurkic (2024)\",\"KJ Simpson (2024)\",\"Kai Jones (2024)\",\"Karl-Anthony Towns (2024)\",\"Keaton Wallace (2024)\",\"Keegan Murray (2024)\",\"Kel'el Ware (2024)\",\"Keldon Johnson (2024)\",\"Kelly Oubre Jr. (2024)\",\"Kenrich Williams (2024)\",\"Kentavious Caldwell-Pope (2024)\",\"Kenyon Martin Jr. (2024)\",\"Keon Ellis (2024)\",\"Keon Johnson (2024)\",\"Kevin Durant (2024)\",\"Kevin Huerter (2024)\",\"Kevin Love (2024)\",\"Kevin Porter Jr. (2024)\",\"Kevon Looney (2024)\",\"Keyonte George (2024)\",\"Khris Middleton (2024)\",\"Klay Thompson (2024)\",\"Kobe Brown (2024)\",\"Kobe Bufkin (2024)\",\"Kris Dunn (2024)\",\"Kris Murray (2024)\",\"Kristaps Porzingis (2024)\",\"Kyle Anderson (2024)\",\"Kyle Filipowski (2024)\",\"Kyle Kuzma (2024)\",\"Kyle Lowry (2024)\",\"Kyrie Irving (2024)\",\"Kyshawn George (2024)\",\"LaMelo Ball (2024)\",\"Larry Nance Jr. (2024)\",\"Lauri Markkanen (2024)\",\"LeBron James (2024)\",\"Lindy Waters III (2024)\",\"Lonzo Ball (2024)\",\"Luguentz Dort (2024)\",\"Luka Doncic (2024)\",\"Luke Kennard (2024)\",\"Luke Kornet (2024)\",\"Malaki Branham (2024)\",\"Malcolm Brogdon (2024)\",\"Malevy Leons (2024)\",\"Malik Beasley (2024)\",\"Malik Monk (2024)\",\"MarJon Beauchamp (2024)\",\"Marcus Sasser (2024)\",\"Marcus Smart (2024)\",\"Mark Williams (2024)\",\"Marvin Bagley III (2024)\",\"Mason Plumlee (2024)\",\"Matas Buzelis (2024)\",\"Max Christie (2024)\",\"Maxi Kleber (2024)\",\"Michael Porter Jr. (2024)\",\"Mikal Bridges (2024)\",\"Mike Conley (2024)\",\"Miles Bridges (2024)\",\"Miles McBride (2024)\",\"Mo Bamba (2024)\",\"Monte Morris (2024)\",\"Moritz Wagner (2024)\",\"Moses Brown (2024)\",\"Moses Moody (2024)\",\"Moussa Diabate (2024)\",\"Myles Turner (2024)\",\"Naji Marshall (2024)\",\"Naz Reid (2024)\",\"Neemias Queta (2024)\",\"Nic Claxton (2024)\",\"Nick Richards (2024)\",\"Nick Smith Jr. (2024)\",\"Nickeil Alexander-Walker (2024)\",\"Nicolas Batum (2024)\",\"Nikola Jokic (2024)\",\"Nikola Jovic (2024)\",\"Nikola Vucevic (2024)\",\"Noah Clowney (2024)\",\"Norman Powell (2024)\",\"OG Anunoby (2024)\",\"Obi Toppin (2024)\",\"Ochai Agbaji (2024)\",\"Olivier-Maxence Prosper (2024)\",\"Onyeka Okongwu (2024)\",\"Oso Ighodaro (2024)\",\"Ousmane Dieng (2024)\",\"P.J. Washington (2024)\",\"Pacome Dadiet (2024)\",\"Pascal Siakam (2024)\",\"Pat Connaughton (2024)\",\"Pat Spencer (2024)\",\"Patrick Baldwin Jr. (2024)\",\"Patrick Williams (2024)\",\"Paul George (2024)\",\"Paul Reed (2024)\",\"Payton Pritchard (2024)\",\"Pelle Larsson (2024)\",\"Peyton Watson (2024)\",\"Precious Achiuwa (2024)\",\"Quentin Grimes (2024)\",\"Quenton Jackson (2024)\",\"RJ Barrett (2024)\",\"Rayan Rupert (2024)\",\"Reed Sheppard (2024)\",\"Reggie Jackson (2024)\",\"Richaun Holmes (2024)\",\"Ricky Council IV (2024)\",\"Rob Dillingham (2024)\",\"Robert Williams III (2024)\",\"Ronald Holland II (2024)\",\"Royce O'Neale (2024)\",\"Rudy Gobert (2024)\",\"Rui Hachimura (2024)\",\"Russell Westbrook (2024)\",\"Ryan Dunn (2024)\",\"Ryan Rollins (2024)\",\"Sam Hauser (2024)\",\"Sam Merrill (2024)\",\"Sandro Mamukelashvili (2024)\",\"Santi Aldama (2024)\",\"Scoot Henderson (2024)\",\"Scottie Barnes (2024)\",\"Scotty Pippen Jr. (2024)\",\"Seth Curry (2024)\",\"Shaedon Sharpe (2024)\",\"Shai Gilgeous-Alexander (2024)\",\"Shake Milton (2024)\",\"Simone Fontecchio (2024)\",\"Spencer Dinwiddie (2024)\",\"Stanley Umude (2024)\",\"Stephen Curry (2024)\",\"Stephon Castle (2024)\",\"Steven Adams (2024)\",\"Svi Mykhailiuk (2024)\",\"T.J. McConnell (2024)\",\"Taj Gibson (2024)\",\"Talen Horton-Tucker (2024)\",\"Tari Eason (2024)\",\"Taurean Prince (2024)\",\"Taze Moore (2024)\",\"Terance Mann (2024)\",\"Terry Rozier (2024)\",\"Tidjane Salaun (2024)\",\"Tim Hardaway Jr. (2024)\",\"Tobias Harris (2024)\",\"Torrey Craig (2024)\",\"Toumani Camara (2024)\",\"Trae Young (2024)\",\"Trayce Jackson-Davis (2024)\",\"Tre Jones (2024)\",\"Tre Mann (2024)\",\"Trendon Watford (2024)\",\"Trevelin Queen (2024)\",\"Trey Alexander (2024)\",\"Trey Jemison III (2024)\",\"Trey Lyles (2024)\",\"Trey Murphy III (2024)\",\"Tristan Thompson (2024)\",\"Tristan da Silva (2024)\",\"Tristen Newton (2024)\",\"Ty Jerome (2024)\",\"TyTy Washington Jr. (2024)\",\"Tyler Herro (2024)\",\"Tyler Kolek (2024)\",\"Tyler Smith (2024)\",\"Tyrese Haliburton (2024)\",\"Tyrese Martin (2024)\",\"Tyrese Maxey (2024)\",\"Tyus Jones (2024)\",\"Vasilije Micic (2024)\",\"Victor Wembanyama (2024)\",\"Vince Williams Jr. (2024)\",\"Vit Krejci (2024)\",\"Vlatko Cancar (2024)\",\"Walker Kessler (2024)\",\"Wendell Carter Jr. (2024)\",\"Wendell Moore Jr. (2024)\",\"Xavier Tillman (2024)\",\"Yves Missi (2024)\",\"Zaccharie Risacher (2024)\",\"Zach Collins (2024)\",\"Zach Edey (2024)\",\"Zach LaVine (2024)\",\"Zeke Nnaji (2024)\",\"Ziaire Williams (2024)\",\"ga Bitadze (2024)\"],\"legendgroup\":\"\",\"marker\":{\"color\":[6,5,2,3,6,1,1,3,6,1,4,1,6,2,0,6,1,1,0,2,6,0,2,2,0,6,0,0,2,2,2,6,5,2,0,5,6,6,3,3,2,1,6,6,1,2,2,6,6,1,6,6,2,2,1,6,4,2,2,6,2,6,0,1,3,1,6,0,3,0,2,6,5,3,3,2,6,5,5,2,6,3,6,2,3,0,1,0,2,3,5,2,2,6,3,2,4,0,2,1,2,2,0,0,6,6,2,6,6,1,2,1,2,5,6,1,6,0,6,3,4,6,3,5,1,4,2,2,6,3,1,0,4,1,6,6,2,2,0,6,1,0,6,0,0,5,0,6,0,0,2,4,6,1,3,0,2,6,5,4,0,0,0,2,0,2,2,0,2,2,6,1,2,5,2,3,6,5,2,2,0,0,0,3,2,6,6,0,2,4,3,6,0,0,0,3,1,2,0,2,2,4,1,1,6,0,0,6,1,2,6,4,0,2,1,0,1,0,5,3,3,6,6,6,6,2,0,6,3,2,5,6,1,2,6,3,6,0,1,6,6,5,3,6,1,6,5,6,0,5,6,3,2,3,0,2,1,2,1,2,6,2,2,5,5,6,2,1,1,3,0,1,6,2,3,5,5,0,5,1,3,0,1,2,6,6,6,6,1,5,0,4,0,1,6,2,2,1,0,0,5,6,1,2,3,2,0,2,2,0,6,3,0,0,1,0,5,2,5,4,3,2,2,3,6,6,6,1,6,0,2,1,5,6,0,5,6,0,1,6,0,6,6,6,6,6,6,3,6,3,2,5,1,2,2,6,3,6,1,2,2,4,3,0,1,3,6,6,4,3,6,6,2,2,3,6,2,0,5,2,0,3,5,0,6,2,3,6,3,0,4,2,1,3,2,6,2,6,6,2,1,1,3,0,0,4,1,0,6,1,6,2,4,6,0],\"coloraxis\":\"coloraxis\",\"opacity\":0.7,\"symbol\":\"circle\"},\"mode\":\"markers\",\"name\":\"\",\"scene\":\"scene\",\"showlegend\":false,\"x\":[5.650122,8.66945,4.9471416,5.857973,6.5529222,6.96466,6.402127,6.342021,6.294924,7.1530714,8.352683,6.966358,5.5389743,4.797805,5.763245,5.595627,6.4065,7.0395055,6.8598747,4.7029567,6.318713,6.539739,3.771733,3.6556427,5.693956,5.758471,6.200308,6.7399096,4.4475856,4.997787,5.019085,7.5333843,8.168871,4.7079387,6.6901574,7.651131,5.8852854,5.6561513,5.824153,6.5398345,4.9673038,7.455232,6.167346,6.0733023,6.6013536,4.41556,4.073687,6.9231615,5.732424,6.4632363,6.684804,5.509837,3.397167,4.668138,7.2823105,6.109616,8.510998,3.6777697,3.9956367,6.017515,4.84868,6.2643423,6.1109815,7.0172534,6.08919,8.302243,6.6269655,4.561752,5.4224653,5.9575515,3.7714195,5.84513,8.960021,5.4296465,5.969923,4.655813,6.657483,9.035029,8.902962,4.9678044,6.7463617,6.0935173,5.205035,3.432587,5.370272,5.641244,7.7601647,7.085193,4.247837,5.3900313,8.452322,3.450727,4.5437636,5.915196,5.6829886,3.9882236,8.076626,5.504988,3.6207147,8.107261,4.897644,4.7772017,5.806589,6.5720906,5.199831,6.335595,3.596232,5.4063506,5.258008,6.8535333,4.690207,6.871775,3.8970654,8.15089,5.4719553,6.898927,6.373502,6.0450006,5.7039075,5.721389,7.5672717,6.118266,5.417032,8.467046,7.2575283,7.894751,4.390186,3.5582883,5.5475173,6.5299854,7.0631313,6.744099,8.714098,7.6643305,7.012157,5.9497976,3.6214817,3.2735748,4.548794,5.740752,7.285125,5.635327,6.703887,5.630293,7.012301,8.62054,5.802349,5.9985313,5.8756156,6.030562,3.4249494,7.4032273,5.595082,7.9576683,5.9076343,6.588371,4.743902,5.7330866,8.313245,8.744165,6.510739,7.066756,5.6519246,3.4633446,5.844356,4.582236,5.061947,5.790254,4.6893177,4.5518317,5.6363754,7.6050725,4.4270296,8.919862,3.3701754,5.8236985,6.2470303,8.536148,4.3316083,3.9355772,5.64773,4.5667515,5.720801,5.8638916,3.4962142,6.6637344,5.708934,6.229173,3.242013,8.8444395,5.426387,6.5408063,5.7244315,5.6577554,5.930038,5.8783984,7.023776,3.5097249,6.1926455,3.5769072,4.7288985,8.728054,7.8806634,7.6041484,7.070773,5.9603577,6.042733,5.274403,8.208307,5.201587,6.481961,8.624327,5.7062507,3.8551695,7.6617055,6.8399863,7.432428,5.6548553,8.976906,5.636559,5.7035537,6.2004695,5.5787144,5.76824,6.838284,4.320509,5.8596487,6.866923,5.860961,4.552311,8.636688,5.789499,6.9924955,4.51789,5.5994587,6.5300407,5.8882174,6.0448785,7.6692896,7.2261043,4.7469974,8.081753,6.6862764,5.2819753,6.524085,5.266221,8.69015,5.6005306,7.0875473,8.439451,7.325191,5.5323186,4.3504376,6.07241,6.5739284,4.875674,7.7891855,4.792065,7.2828455,4.1565695,7.148607,4.4435005,4.74117,8.829521,8.831436,5.5718293,3.3226168,7.359142,8.143836,5.9474564,4.7439156,7.0595098,5.346668,4.181352,5.441319,8.957467,8.509796,6.6115813,6.219948,6.638143,5.8605375,6.4441557,7.0122595,5.1556706,5.670373,6.305398,5.316242,5.645569,7.557936,8.861613,4.9237256,8.560182,5.91878,6.8677025,5.4329515,4.7333326,4.724582,7.2796617,5.976592,3.640339,9.05357,5.827836,7.266587,3.5180986,5.388511,4.8721285,6.8723383,4.666639,5.3528776,5.8141165,5.7710304,5.7854795,5.6480517,5.952841,7.252795,5.570277,9.015804,4.382728,8.559956,8.797048,5.4212313,4.9585023,4.147172,5.3207903,5.888731,6.751987,4.8315578,8.141431,5.8360014,6.215044,3.8274615,7.3439875,8.836557,5.599873,6.4323726,9.04794,6.3725376,6.1104093,7.3376412,5.652773,5.8208513,6.456905,6.675139,6.688753,7.2560887,6.746619,5.574576,6.380318,5.682361,5.575603,3.3347902,8.430174,7.537681,4.9877505,3.404721,5.734499,5.7103977,5.12268,7.6613717,4.24861,3.7906413,8.61271,6.797062,6.6102476,7.0310087,5.3566236,5.5488815,5.8850474,7.8949857,6.904055,5.7807446,5.5061173,4.4912734,5.0262437,5.5251894,5.842266,3.330807,5.9595685,8.561487,5.007295,6.273643,5.6520166,9.0425415,6.4636188,7.217409,4.297409,5.347747,5.7363815,5.8774724,6.6543245,8.916677,3.965448,7.042206,6.187062,5.075003,5.5879025,3.456762,6.558176,6.6593876,4.1674857,6.657007,7.1073737,6.117796,5.809406,6.188149,8.555979,7.6879053,5.822743,6.631121,8.0133915,4.985846,5.020102,8.357303,6.9637966,6.005106],\"y\":[8.276358,5.0639205,7.328916,6.348591,5.77728,4.911934,3.8748393,6.217157,7.2878265,4.0727844,4.592944,3.9789553,7.133084,7.6899757,4.122147,8.31042,3.9013171,5.539106,6.058958,7.5326605,6.548361,5.605871,8.077678,9.503404,4.3749924,6.147057,3.9048264,5.7720084,8.579558,7.35456,7.607113,6.1928854,4.637482,8.144632,6.423604,4.306482,8.095662,8.365609,5.9039893,6.228715,7.9244127,4.0877385,6.7149777,7.3977103,3.8666382,8.82049,9.483989,5.3769317,7.9886513,3.9755366,6.868212,8.50992,9.269277,8.893334,3.7937272,6.993449,4.3317366,9.299983,9.186826,6.374399,7.6108146,7.0543027,3.965277,5.0637813,4.416377,4.340778,7.1250906,7.3416443,4.6602864,3.954636,9.269888,7.1733985,5.194889,4.82404,6.441325,7.82938,5.9035063,5.4264913,5.552915,7.9090157,6.6197186,6.252315,8.679311,9.274081,6.7367296,3.8926,4.1277146,5.0525627,8.696775,4.8012667,5.5398064,9.381351,7.887333,8.293629,4.466506,8.137667,4.691794,4.2278056,8.781884,4.493354,7.693435,8.381445,3.9020987,6.324222,8.817023,6.910309,8.8663845,8.510153,8.585992,5.215177,7.605704,4.8034196,9.526897,5.7746696,8.127578,4.4528427,7.0679007,4.0423574,8.41421,5.750701,4.675558,7.2374353,5.000701,4.925728,3.831538,4.872732,7.692711,9.346047,8.653363,5.8896904,3.6061125,6.0630093,4.427097,4.6232324,5.752666,8.170216,8.156672,9.250607,7.307728,7.9346504,5.2408347,6.88628,6.147511,3.9098568,6.2014155,5.367818,4.1983757,7.584102,4.770067,3.902972,8.941911,5.653234,8.262737,4.5210314,5.8473725,5.983407,8.220331,8.155033,5.6130877,4.4796443,5.5423636,5.6660404,4.0445495,8.748234,3.8629947,8.333146,7.642161,5.3858676,8.881484,8.242138,7.9792523,4.1348624,9.043524,5.4945307,9.185642,6.111479,7.020422,5.4478846,9.017436,8.229943,3.8968885,7.1718698,3.8373587,5.8743224,9.523209,7.2261214,7.491447,3.9935703,9.231487,4.6585064,6.8992853,7.1051817,5.3898635,4.1161113,3.9565914,6.048584,3.6221445,8.413328,4.1442947,8.415522,7.455966,4.447095,4.158129,4.243043,5.395457,4.423071,5.71529,7.8365016,4.3589654,8.646519,6.486443,4.387325,6.2104754,8.627172,4.022632,6.304862,5.1655717,7.1412973,5.3616695,6.2553406,6.8187857,6.9611063,8.027704,6.0642104,6.1690392,8.008536,4.832586,6.252097,4.0183105,7.910832,5.284985,7.928591,4.0508747,8.115937,6.8381815,5.5991597,7.7435265,5.5663137,4.2540197,5.255611,7.643204,5.0089226,5.552564,7.704066,3.774195,8.84027,5.3869376,8.504482,4.6849117,5.5105944,5.5618334,4.7286143,7.5866055,4.3700843,6.2290573,8.683095,4.4088693,8.154982,5.2254925,9.506026,6.009202,8.310534,8.232315,5.5953555,5.2816687,7.838911,9.363472,4.5733156,4.521461,6.31708,7.036148,3.592156,8.707136,9.372849,6.825045,5.0654225,5.539157,4.5047307,4.433977,3.7442358,5.714662,4.1976876,3.7002087,7.899171,8.382825,7.3226786,8.739018,8.22875,4.3344507,5.4577975,6.995325,4.251476,5.7781878,3.7342162,7.263449,7.2719603,8.021407,3.880036,3.9505851,8.068488,5.492831,6.8395433,4.579602,9.022985,4.620127,7.774618,4.9152436,8.095986,8.312168,6.106899,7.920673,5.7186418,6.0134854,4.1991715,4.295049,6.8918333,5.446134,8.1041765,5.4965463,4.9810443,6.862265,7.331059,9.319533,6.800695,8.19035,5.477307,7.150502,4.2568364,6.6663594,5.8005776,8.5418625,5.5362134,5.2385616,8.377249,4.417288,5.4011626,7.847772,3.9454625,4.384315,7.8489895,4.1732597,5.9229636,7.215299,5.6323094,6.2408543,5.957746,8.383766,5.045246,7.954371,7.0364113,8.955469,5.5641303,3.9933863,7.876933,9.367372,6.2394567,6.8508368,7.447517,4.0754466,9.314167,8.630935,4.3558183,6.102914,5.6287637,3.8048213,7.000924,6.960777,7.220516,4.9758463,6.0703964,8.252905,7.131853,7.6499414,7.6900387,7.196287,8.166968,8.957896,4.065497,5.5031614,8.425651,5.590465,6.8455563,5.393064,3.9985464,5.230231,8.847473,4.833039,6.20658,5.566352,5.8527436,4.7750773,9.526115,3.5896127,5.30803,8.919783,7.861528,8.9004965,7.070278,6.1765165,9.462101,4.3040905,3.6865077,5.3645673,3.7857304,6.156215,4.289381,4.00382,4.3461647,5.9020767,4.6190953,7.2464466,8.858989,5.1182327,5.756884,3.8394048],\"z\":[2.3643742,1.9812392,4.225833,1.3990436,1.1999936,0.7759261,1.3399826,1.7191104,3.1184666,1.4877532,0.5914736,0.5801902,3.3193216,5.0613647,3.0750885,2.6056933,1.3335356,1.0702302,3.3123603,4.746097,3.592064,2.9381995,5.6529326,5.535117,1.5410796,2.4590864,2.7513824,2.775179,4.851554,4.209773,4.549981,1.4635264,1.1680794,4.8626556,3.612678,1.8499899,2.4501464,2.4057324,1.2831473,1.8097649,4.1560473,0.789408,3.5397499,4.1452465,1.4917237,5.0669556,5.25216,1.009655,2.764343,1.4713545,3.5047097,3.036421,5.773498,4.851165,0.80194527,3.247313,0.7668629,5.383569,5.0631166,1.5613334,4.1752567,2.9772027,1.6443295,1.2045324,1.4499078,0.7025862,3.6660056,4.865378,1.4706352,2.5863004,5.2763834,2.7322524,1.4678415,1.3997935,1.780773,4.4586134,2.426327,2.1535485,2.3380032,4.8338785,3.1530974,1.8952186,3.370398,5.380072,2.3646617,2.5884118,0.9958766,0.939559,5.113393,1.47673,1.8900362,5.8268805,4.305232,2.608087,1.520223,5.530059,0.56220895,3.1099334,5.562335,0.6735094,4.054862,5.1716933,2.8766665,2.9301057,3.695122,3.8350456,5.5616727,3.32348,3.3549273,0.82454574,4.954691,1.2602081,5.382715,1.6967232,2.9594994,0.60900956,3.339788,1.8726655,3.5819478,1.3676925,1.9506085,3.4980783,1.5834746,1.3584657,1.0871165,1.7531878,5.1421843,5.6262455,3.8754828,1.1404359,0.3538002,3.439798,0.5669813,1.0769951,1.0064898,2.4324217,5.7768393,5.6979375,4.7469997,3.5209985,0.98049396,3.6843207,1.228229,2.5872738,3.02779,1.8088579,2.952144,3.3373084,2.8758113,2.3376498,5.7764635,1.018993,2.8580945,1.0389718,1.1154045,3.2773714,5.213377,3.0434134,2.1748486,0.55478966,3.1421764,2.5472019,3.0192866,5.698798,2.830431,4.6600604,4.8927245,2.5727744,4.78342,5.0667977,2.1382582,0.90704405,5.149414,2.1801825,5.4337726,1.5893431,3.143604,2.458846,4.6080394,5.512093,2.6026118,4.339357,2.6073537,1.6521565,5.6147914,3.170817,3.577624,1.6626272,5.6001115,0.8095524,1.3887736,3.4807234,2.8160756,3.2770746,1.7336038,1.3674812,0.3709831,5.7656784,1.9826006,5.705031,4.6405005,0.5936855,1.3456608,1.5237405,1.3845073,2.5839972,1.4551247,4.488588,0.7260798,4.2215824,2.7215042,0.57733333,2.4533725,5.364356,1.6072079,3.406248,0.97937703,4.2471642,1.8904474,2.4103744,1.4721475,3.6602504,3.191669,2.2686808,2.5220394,5.274621,2.9915879,3.2927444,1.7362132,5.187934,1.593774,2.8221288,0.5972858,4.462483,3.0146759,1.0074172,3.3879547,2.9156935,1.7612293,0.8524765,3.8522205,1.8303411,0.89273113,4.299919,1.3294764,3.7973735,1.6334951,3.7555528,1.1581323,2.0897992,1.0046777,1.53301,4.7945247,1.5599369,3.4665534,4.678801,0.7894869,4.982809,0.95344067,5.2531667,1.1259388,4.985143,5.262205,2.3174393,1.5063697,3.1071258,5.681462,0.7086466,0.98201126,1.3370507,4.4552035,0.3468453,3.2084491,5.153351,1.393942,1.2511494,1.5673304,2.3358197,1.5332137,1.148076,1.282945,2.485277,0.6574069,4.5427957,3.2609603,3.899037,3.2745826,3.4602196,1.8144904,2.1138053,3.9505181,0.5240348,3.0662696,0.8416478,3.380895,4.506657,4.2417617,1.0819801,2.0147457,5.7483563,2.2529216,3.7722197,1.5797746,5.8294735,1.4225806,4.378538,1.6150832,4.1535687,3.5596642,3.1023006,2.3978875,1.1743888,2.9253361,2.7415571,0.62984055,3.7307785,2.207692,5.1493077,2.0987875,1.0157285,1.3935293,4.206885,5.118201,1.8013479,3.5363398,1.4913813,4.052067,1.0793737,3.1742668,2.973434,5.5160503,2.231707,1.5176331,2.4313483,2.5859904,1.995193,2.740945,2.8054633,1.2000875,3.0636303,2.9588468,2.1477637,3.4355714,1.0248376,1.264657,1.0381603,2.4276197,0.76304996,2.5223968,1.638785,5.6510806,2.1062295,1.0700146,4.727342,5.7240486,2.161771,1.4727099,4.050078,1.7404199,5.160605,5.44834,0.58155894,1.4791769,3.0761774,0.67237234,1.5702776,3.2189374,2.5680625,0.6774308,1.1530318,3.025766,3.235256,4.3145022,4.4803863,1.5732529,2.7059882,5.6613793,2.7983031,1.8673425,4.0756154,2.9903646,1.3717,1.9029626,1.8503428,0.7538077,4.9681797,1.4325122,2.3110251,2.8357751,3.2020786,0.8191955,5.295462,0.36070168,0.92829967,4.037344,2.0103061,5.6026077,3.7750733,3.448296,5.2014236,1.4109668,0.5033111,0.9101623,2.8580062,3.5127766,0.604224,1.6091739,2.985941,2.3841991,1.1173016,3.495863,4.1883955,0.86092323,2.453762,2.8602972],\"type\":\"scatter3d\"}],                        {\"template\":{\"data\":{\"histogram2dcontour\":[{\"type\":\"histogram2dcontour\",\"colorbar\":{\"outlinewidth\":0,\"ticks\":\"\"},\"colorscale\":[[0.0,\"#0d0887\"],[0.1111111111111111,\"#46039f\"],[0.2222222222222222,\"#7201a8\"],[0.3333333333333333,\"#9c179e\"],[0.4444444444444444,\"#bd3786\"],[0.5555555555555556,\"#d8576b\"],[0.6666666666666666,\"#ed7953\"],[0.7777777777777778,\"#fb9f3a\"],[0.8888888888888888,\"#fdca26\"],[1.0,\"#f0f921\"]]}],\"choropleth\":[{\"type\":\"choropleth\",\"colorbar\":{\"outlinewidth\":0,\"ticks\":\"\"}}],\"histogram2d\":[{\"type\":\"histogram2d\",\"colorbar\":{\"outlinewidth\":0,\"ticks\":\"\"},\"colorscale\":[[0.0,\"#0d0887\"],[0.1111111111111111,\"#46039f\"],[0.2222222222222222,\"#7201a8\"],[0.3333333333333333,\"#9c179e\"],[0.4444444444444444,\"#bd3786\"],[0.5555555555555556,\"#d8576b\"],[0.6666666666666666,\"#ed7953\"],[0.7777777777777778,\"#fb9f3a\"],[0.8888888888888888,\"#fdca26\"],[1.0,\"#f0f921\"]]}],\"heatmap\":[{\"type\":\"heatmap\",\"colorbar\":{\"outlinewidth\":0,\"ticks\":\"\"},\"colorscale\":[[0.0,\"#0d0887\"],[0.1111111111111111,\"#46039f\"],[0.2222222222222222,\"#7201a8\"],[0.3333333333333333,\"#9c179e\"],[0.4444444444444444,\"#bd3786\"],[0.5555555555555556,\"#d8576b\"],[0.6666666666666666,\"#ed7953\"],[0.7777777777777778,\"#fb9f3a\"],[0.8888888888888888,\"#fdca26\"],[1.0,\"#f0f921\"]]}],\"heatmapgl\":[{\"type\":\"heatmapgl\",\"colorbar\":{\"outlinewidth\":0,\"ticks\":\"\"},\"colorscale\":[[0.0,\"#0d0887\"],[0.1111111111111111,\"#46039f\"],[0.2222222222222222,\"#7201a8\"],[0.3333333333333333,\"#9c179e\"],[0.4444444444444444,\"#bd3786\"],[0.5555555555555556,\"#d8576b\"],[0.6666666666666666,\"#ed7953\"],[0.7777777777777778,\"#fb9f3a\"],[0.8888888888888888,\"#fdca26\"],[1.0,\"#f0f921\"]]}],\"contourcarpet\":[{\"type\":\"contourcarpet\",\"colorbar\":{\"outlinewidth\":0,\"ticks\":\"\"}}],\"contour\":[{\"type\":\"contour\",\"colorbar\":{\"outlinewidth\":0,\"ticks\":\"\"},\"colorscale\":[[0.0,\"#0d0887\"],[0.1111111111111111,\"#46039f\"],[0.2222222222222222,\"#7201a8\"],[0.3333333333333333,\"#9c179e\"],[0.4444444444444444,\"#bd3786\"],[0.5555555555555556,\"#d8576b\"],[0.6666666666666666,\"#ed7953\"],[0.7777777777777778,\"#fb9f3a\"],[0.8888888888888888,\"#fdca26\"],[1.0,\"#f0f921\"]]}],\"surface\":[{\"type\":\"surface\",\"colorbar\":{\"outlinewidth\":0,\"ticks\":\"\"},\"colorscale\":[[0.0,\"#0d0887\"],[0.1111111111111111,\"#46039f\"],[0.2222222222222222,\"#7201a8\"],[0.3333333333333333,\"#9c179e\"],[0.4444444444444444,\"#bd3786\"],[0.5555555555555556,\"#d8576b\"],[0.6666666666666666,\"#ed7953\"],[0.7777777777777778,\"#fb9f3a\"],[0.8888888888888888,\"#fdca26\"],[1.0,\"#f0f921\"]]}],\"mesh3d\":[{\"type\":\"mesh3d\",\"colorbar\":{\"outlinewidth\":0,\"ticks\":\"\"}}],\"scatter\":[{\"fillpattern\":{\"fillmode\":\"overlay\",\"size\":10,\"solidity\":0.2},\"type\":\"scatter\"}],\"parcoords\":[{\"type\":\"parcoords\",\"line\":{\"colorbar\":{\"outlinewidth\":0,\"ticks\":\"\"}}}],\"scatterpolargl\":[{\"type\":\"scatterpolargl\",\"marker\":{\"colorbar\":{\"outlinewidth\":0,\"ticks\":\"\"}}}],\"bar\":[{\"error_x\":{\"color\":\"#2a3f5f\"},\"error_y\":{\"color\":\"#2a3f5f\"},\"marker\":{\"line\":{\"color\":\"#E5ECF6\",\"width\":0.5},\"pattern\":{\"fillmode\":\"overlay\",\"size\":10,\"solidity\":0.2}},\"type\":\"bar\"}],\"scattergeo\":[{\"type\":\"scattergeo\",\"marker\":{\"colorbar\":{\"outlinewidth\":0,\"ticks\":\"\"}}}],\"scatterpolar\":[{\"type\":\"scatterpolar\",\"marker\":{\"colorbar\":{\"outlinewidth\":0,\"ticks\":\"\"}}}],\"histogram\":[{\"marker\":{\"pattern\":{\"fillmode\":\"overlay\",\"size\":10,\"solidity\":0.2}},\"type\":\"histogram\"}],\"scattergl\":[{\"type\":\"scattergl\",\"marker\":{\"colorbar\":{\"outlinewidth\":0,\"ticks\":\"\"}}}],\"scatter3d\":[{\"type\":\"scatter3d\",\"line\":{\"colorbar\":{\"outlinewidth\":0,\"ticks\":\"\"}},\"marker\":{\"colorbar\":{\"outlinewidth\":0,\"ticks\":\"\"}}}],\"scattermapbox\":[{\"type\":\"scattermapbox\",\"marker\":{\"colorbar\":{\"outlinewidth\":0,\"ticks\":\"\"}}}],\"scatterternary\":[{\"type\":\"scatterternary\",\"marker\":{\"colorbar\":{\"outlinewidth\":0,\"ticks\":\"\"}}}],\"scattercarpet\":[{\"type\":\"scattercarpet\",\"marker\":{\"colorbar\":{\"outlinewidth\":0,\"ticks\":\"\"}}}],\"carpet\":[{\"aaxis\":{\"endlinecolor\":\"#2a3f5f\",\"gridcolor\":\"white\",\"linecolor\":\"white\",\"minorgridcolor\":\"white\",\"startlinecolor\":\"#2a3f5f\"},\"baxis\":{\"endlinecolor\":\"#2a3f5f\",\"gridcolor\":\"white\",\"linecolor\":\"white\",\"minorgridcolor\":\"white\",\"startlinecolor\":\"#2a3f5f\"},\"type\":\"carpet\"}],\"table\":[{\"cells\":{\"fill\":{\"color\":\"#EBF0F8\"},\"line\":{\"color\":\"white\"}},\"header\":{\"fill\":{\"color\":\"#C8D4E3\"},\"line\":{\"color\":\"white\"}},\"type\":\"table\"}],\"barpolar\":[{\"marker\":{\"line\":{\"color\":\"#E5ECF6\",\"width\":0.5},\"pattern\":{\"fillmode\":\"overlay\",\"size\":10,\"solidity\":0.2}},\"type\":\"barpolar\"}],\"pie\":[{\"automargin\":true,\"type\":\"pie\"}]},\"layout\":{\"autotypenumbers\":\"strict\",\"colorway\":[\"#636efa\",\"#EF553B\",\"#00cc96\",\"#ab63fa\",\"#FFA15A\",\"#19d3f3\",\"#FF6692\",\"#B6E880\",\"#FF97FF\",\"#FECB52\"],\"font\":{\"color\":\"#2a3f5f\"},\"hovermode\":\"closest\",\"hoverlabel\":{\"align\":\"left\"},\"paper_bgcolor\":\"white\",\"plot_bgcolor\":\"#E5ECF6\",\"polar\":{\"bgcolor\":\"#E5ECF6\",\"angularaxis\":{\"gridcolor\":\"white\",\"linecolor\":\"white\",\"ticks\":\"\"},\"radialaxis\":{\"gridcolor\":\"white\",\"linecolor\":\"white\",\"ticks\":\"\"}},\"ternary\":{\"bgcolor\":\"#E5ECF6\",\"aaxis\":{\"gridcolor\":\"white\",\"linecolor\":\"white\",\"ticks\":\"\"},\"baxis\":{\"gridcolor\":\"white\",\"linecolor\":\"white\",\"ticks\":\"\"},\"caxis\":{\"gridcolor\":\"white\",\"linecolor\":\"white\",\"ticks\":\"\"}},\"coloraxis\":{\"colorbar\":{\"outlinewidth\":0,\"ticks\":\"\"}},\"colorscale\":{\"sequential\":[[0.0,\"#0d0887\"],[0.1111111111111111,\"#46039f\"],[0.2222222222222222,\"#7201a8\"],[0.3333333333333333,\"#9c179e\"],[0.4444444444444444,\"#bd3786\"],[0.5555555555555556,\"#d8576b\"],[0.6666666666666666,\"#ed7953\"],[0.7777777777777778,\"#fb9f3a\"],[0.8888888888888888,\"#fdca26\"],[1.0,\"#f0f921\"]],\"sequentialminus\":[[0.0,\"#0d0887\"],[0.1111111111111111,\"#46039f\"],[0.2222222222222222,\"#7201a8\"],[0.3333333333333333,\"#9c179e\"],[0.4444444444444444,\"#bd3786\"],[0.5555555555555556,\"#d8576b\"],[0.6666666666666666,\"#ed7953\"],[0.7777777777777778,\"#fb9f3a\"],[0.8888888888888888,\"#fdca26\"],[1.0,\"#f0f921\"]],\"diverging\":[[0,\"#8e0152\"],[0.1,\"#c51b7d\"],[0.2,\"#de77ae\"],[0.3,\"#f1b6da\"],[0.4,\"#fde0ef\"],[0.5,\"#f7f7f7\"],[0.6,\"#e6f5d0\"],[0.7,\"#b8e186\"],[0.8,\"#7fbc41\"],[0.9,\"#4d9221\"],[1,\"#276419\"]]},\"xaxis\":{\"gridcolor\":\"white\",\"linecolor\":\"white\",\"ticks\":\"\",\"title\":{\"standoff\":15},\"zerolinecolor\":\"white\",\"automargin\":true,\"zerolinewidth\":2},\"yaxis\":{\"gridcolor\":\"white\",\"linecolor\":\"white\",\"ticks\":\"\",\"title\":{\"standoff\":15},\"zerolinecolor\":\"white\",\"automargin\":true,\"zerolinewidth\":2},\"scene\":{\"xaxis\":{\"backgroundcolor\":\"#E5ECF6\",\"gridcolor\":\"white\",\"linecolor\":\"white\",\"showbackground\":true,\"ticks\":\"\",\"zerolinecolor\":\"white\",\"gridwidth\":2},\"yaxis\":{\"backgroundcolor\":\"#E5ECF6\",\"gridcolor\":\"white\",\"linecolor\":\"white\",\"showbackground\":true,\"ticks\":\"\",\"zerolinecolor\":\"white\",\"gridwidth\":2},\"zaxis\":{\"backgroundcolor\":\"#E5ECF6\",\"gridcolor\":\"white\",\"linecolor\":\"white\",\"showbackground\":true,\"ticks\":\"\",\"zerolinecolor\":\"white\",\"gridwidth\":2}},\"shapedefaults\":{\"line\":{\"color\":\"#2a3f5f\"}},\"annotationdefaults\":{\"arrowcolor\":\"#2a3f5f\",\"arrowhead\":0,\"arrowwidth\":1},\"geo\":{\"bgcolor\":\"white\",\"landcolor\":\"#E5ECF6\",\"subunitcolor\":\"white\",\"showland\":true,\"showlakes\":true,\"lakecolor\":\"white\"},\"title\":{\"x\":0.05},\"mapbox\":{\"style\":\"light\"}}},\"scene\":{\"domain\":{\"x\":[0.0,1.0],\"y\":[0.0,1.0]},\"xaxis\":{\"title\":{\"text\":\"UMAP1\"}},\"yaxis\":{\"title\":{\"text\":\"UMAP2\"}},\"zaxis\":{\"title\":{\"text\":\"UMAP3\"}}},\"coloraxis\":{\"colorbar\":{\"title\":{\"text\":\"cluster\"}},\"colorscale\":[[0.0,\"#0d0887\"],[0.1111111111111111,\"#46039f\"],[0.2222222222222222,\"#7201a8\"],[0.3333333333333333,\"#9c179e\"],[0.4444444444444444,\"#bd3786\"],[0.5555555555555556,\"#d8576b\"],[0.6666666666666666,\"#ed7953\"],[0.7777777777777778,\"#fb9f3a\"],[0.8888888888888888,\"#fdca26\"],[1.0,\"#f0f921\"]]},\"legend\":{\"tracegroupgap\":0},\"title\":{\"text\":\"NBA Player Clusters (3D UMAP)\"}},                        {\"responsive\": true}                    ).then(function(){\n",
              "                            \n",
              "var gd = document.getElementById('94da028a-c694-4ad4-9451-a49a88a78e22');\n",
              "var x = new MutationObserver(function (mutations, observer) {{\n",
              "        var display = window.getComputedStyle(gd).display;\n",
              "        if (!display || display === 'none') {{\n",
              "            console.log([gd, 'removed!']);\n",
              "            Plotly.purge(gd);\n",
              "            observer.disconnect();\n",
              "        }}\n",
              "}});\n",
              "\n",
              "// Listen for the removal of the full notebook cells\n",
              "var notebookContainer = gd.closest('#notebook-container');\n",
              "if (notebookContainer) {{\n",
              "    x.observe(notebookContainer, {childList: true});\n",
              "}}\n",
              "\n",
              "// Listen for the clearing of the current output cell\n",
              "var outputEl = gd.closest('.output');\n",
              "if (outputEl) {{\n",
              "    x.observe(outputEl, {childList: true});\n",
              "}}\n",
              "\n",
              "                        })                };                            </script>        </div>\n",
              "</body>\n",
              "</html>"
            ]
          },
          "metadata": {}
        }
      ],
      "source": [
        "\n",
        "import plotly.express as px\n",
        "\n",
        "agg_df['player'] = agg_df['firstName'] + ' ' + agg_df['lastName'] + ' (' + agg_df['season'].astype(str) + ')'\n",
        "fig = px.scatter_3d(agg_df, x='UMAP1', y='UMAP2', z='UMAP3', color='cluster', hover_name='player', opacity=0.7,\n",
        "                    title='NBA Player Clusters (3D UMAP)')\n",
        "fig.show()\n"
      ]
    },
    {
      "cell_type": "code",
      "execution_count": 10,
      "id": "ef162ed6",
      "metadata": {
        "colab": {
          "base_uri": "https://localhost:8080/"
        },
        "id": "ef162ed6",
        "outputId": "b8beff61-3f1e-446c-af80-1204af7710d1"
      },
      "outputs": [
        {
          "output_type": "stream",
          "name": "stdout",
          "text": [
            "\n",
            "Cluster 0 - Sample Players:\n",
            "  - Ariel Hukporti (2024)\n",
            "  - Rudy Gobert (2024)\n",
            "  - Harrison Barnes (2024)\n",
            "  - Amen Thompson (2024)\n",
            "  - Jalen Duren (2024)\n",
            "  - Moritz Wagner (2024)\n",
            "  - Daniel Gafford (2024)\n",
            "  - Jeremiah Robinson-Earl (2024)\n",
            "  - Deandre Ayton (2024)\n",
            "  - Noah Clowney (2024)\n",
            "  - Malcolm Brogdon (2024)\n",
            "  - Javonte Green (2024)\n",
            "  - Clint Capela (2024)\n",
            "  - Kobe Brown (2024)\n",
            "  - Ausar Thompson (2024)\n",
            "\n",
            "Cluster 1 - Sample Players:\n",
            "  - Kevon Looney (2024)\n",
            "  - Andre Jackson Jr. (2024)\n",
            "  - Kyle Lowry (2024)\n",
            "  - Delon Wright (2024)\n",
            "  - Gary Payton II (2024)\n",
            "  - Taj Gibson (2024)\n",
            "  - Neemias Queta (2024)\n",
            "  - Jonathan Mogbo (2024)\n",
            "  - Ousmane Dieng (2024)\n",
            "  - Daniel Theis (2024)\n",
            "  - Vit Krejci (2024)\n",
            "  - Alex Len (2024)\n",
            "  - Kyshawn George (2024)\n",
            "  - Luke Kennard (2024)\n",
            "  - Bruno Fernando (2024)\n",
            "\n",
            "Cluster 2 - Sample Players:\n",
            "  - Jalen Suggs (2024)\n",
            "  - De'Aaron Fox (2024)\n",
            "  - Keldon Johnson (2024)\n",
            "  - OG Anunoby (2024)\n",
            "  - Aaron Gordon (2024)\n",
            "  - Deni Avdija (2024)\n",
            "  - Jalen Johnson (2024)\n",
            "  - Naji Marshall (2024)\n",
            "  - Brandon Ingram (2024)\n",
            "  - Jared McCain (2024)\n",
            "  - Tobias Harris (2024)\n",
            "  - Ja Morant (2024)\n",
            "  - Kristaps Porzingis (2024)\n",
            "  - Tyrese Haliburton (2024)\n",
            "  - CJ McCollum (2024)\n",
            "\n",
            "Cluster 3 - Sample Players:\n",
            "  - Terance Mann (2024)\n",
            "  - Kris Murray (2024)\n",
            "  - Kyle Anderson (2024)\n",
            "  - Tyler Smith (2024)\n",
            "  - Scoot Henderson (2024)\n",
            "  - Trevelin Queen (2024)\n",
            "  - Chris Duarte (2024)\n",
            "  - Duop Reath (2024)\n",
            "  - Dalen Terry (2024)\n",
            "  - Bones Hyland (2024)\n",
            "  - Colby Jones (2024)\n",
            "  - Kevin Love (2024)\n",
            "  - Patrick Baldwin Jr. (2024)\n",
            "  - Jett Howard (2024)\n",
            "  - Jay Huff (2024)\n",
            "\n",
            "Cluster 4 - Sample Players:\n",
            "  - Alex Caruso (2024)\n",
            "  - Cam Reddish (2024)\n",
            "  - Jeff Dowtin Jr. (2024)\n",
            "  - Gary Harris (2024)\n",
            "  - Dwight Powell (2024)\n",
            "  - Steven Adams (2024)\n",
            "  - Wendell Moore Jr. (2024)\n",
            "  - TyTy Washington Jr. (2024)\n",
            "  - Moses Brown (2024)\n",
            "  - Dean Wade (2024)\n",
            "  - John Konchar (2024)\n",
            "  - Zeke Nnaji (2024)\n",
            "  - Eric Gordon (2024)\n",
            "  - Pat Spencer (2024)\n",
            "  - Jae'Sean Tate (2024)\n",
            "\n",
            "Cluster 5 - Sample Players:\n",
            "  - Scotty Pippen Jr. (2024)\n",
            "  - Kevin Huerter (2024)\n",
            "  - Nick Smith Jr. (2024)\n",
            "  - Kobe Bufkin (2024)\n",
            "  - Elfrid Payton (2024)\n",
            "  - Isaiah Collier (2024)\n",
            "  - Tre Jones (2024)\n",
            "  - Pacome Dadiet (2024)\n",
            "  - Jared Butler (2024)\n",
            "  - AJ Johnson (2024)\n",
            "  - Cory Joseph (2024)\n",
            "  - Khris Middleton (2024)\n",
            "  - Craig Porter Jr. (2024)\n",
            "  - Josh Minott (2024)\n",
            "  - Jamal Shead (2024)\n",
            "\n",
            "Cluster 6 - Sample Players:\n",
            "  - Draymond Green (2024)\n",
            "  - Mike Conley (2024)\n",
            "  - Kris Dunn (2024)\n",
            "  - Jonathan Kuminga (2024)\n",
            "  - Jarace Walker (2024)\n",
            "  - Jaden McDaniels (2024)\n",
            "  - Taurean Prince (2024)\n",
            "  - Jerami Grant (2024)\n",
            "  - Brandin Podziemski (2024)\n",
            "  - AJ Green (2024)\n",
            "  - Cason Wallace (2024)\n",
            "  - Duncan Robinson (2024)\n",
            "  - Tyus Jones (2024)\n",
            "  - Sam Merrill (2024)\n",
            "  - Quentin Grimes (2024)\n"
          ]
        }
      ],
      "source": [
        "\n",
        "for cluster_id in sorted(agg_df['cluster'].unique()):\n",
        "    print(f\"\\nCluster {cluster_id} - Sample Players:\")\n",
        "    sample = agg_df[agg_df['cluster'] == cluster_id].sample(n=min(15, len(agg_df[agg_df['cluster'] == cluster_id])), random_state=42)\n",
        "    for _, row in sample.iterrows():\n",
        "        print(f\"  - {row['firstName']} {row['lastName']} ({int(row['season'])})\")\n"
      ]
    },
    {
      "cell_type": "code",
      "source": [
        "cluster_summary = agg_df.groupby('cluster')[feature_cols].median()\n",
        "\n",
        "low_thresh = X[feature_cols].quantile(0.25)\n",
        "high_thresh = X[feature_cols].quantile(0.75)\n",
        "\n",
        "descriptions = {}\n",
        "for cluster_id, row in cluster_summary.iterrows():\n",
        "    desc = []\n",
        "    for col in feature_cols:\n",
        "        if row[col] >= high_thresh[col]:\n",
        "            desc.append(f\"high in {col}\")\n",
        "        elif row[col] <= low_thresh[col]:\n",
        "            desc.append(f\"low in {col}\")\n",
        "        else:\n",
        "            desc.append(f\"medium in {col}\")\n",
        "    descriptions[cluster_id] = desc\n",
        "\n",
        "# Print summary for all clusters\n",
        "for cluster_id in sorted(descriptions):\n",
        "    print(f\"Cluster {cluster_id}:\\n- \" + \", \".join(descriptions[cluster_id]) + \"\\n\")"
      ],
      "metadata": {
        "colab": {
          "base_uri": "https://localhost:8080/"
        },
        "id": "q--8x05WjbXe",
        "outputId": "d3b86135-2b89-4357-c2a2-76c7b22adaca"
      },
      "id": "q--8x05WjbXe",
      "execution_count": 11,
      "outputs": [
        {
          "output_type": "stream",
          "name": "stdout",
          "text": [
            "Cluster 0:\n",
            "- medium in numMinutes, medium in fieldGoalsAttempted, high in fieldGoalsPercentage, medium in threePointersAttempted, medium in threePointersPercentage, medium in freeThrowsAttempted, medium in freeThrowsPercentage, medium in pts_pct, medium in ast_pct, medium in reb_pct, medium in stl_pct, medium in blk_pct\n",
            "\n",
            "Cluster 1:\n",
            "- low in numMinutes, low in fieldGoalsAttempted, low in fieldGoalsPercentage, low in threePointersAttempted, low in threePointersPercentage, low in freeThrowsAttempted, low in freeThrowsPercentage, low in pts_pct, medium in ast_pct, high in reb_pct, medium in stl_pct, medium in blk_pct\n",
            "\n",
            "Cluster 2:\n",
            "- high in numMinutes, high in fieldGoalsAttempted, medium in fieldGoalsPercentage, high in threePointersAttempted, medium in threePointersPercentage, high in freeThrowsAttempted, high in freeThrowsPercentage, high in pts_pct, medium in ast_pct, low in reb_pct, medium in stl_pct, medium in blk_pct\n",
            "\n",
            "Cluster 3:\n",
            "- low in numMinutes, low in fieldGoalsAttempted, medium in fieldGoalsPercentage, medium in threePointersAttempted, medium in threePointersPercentage, low in freeThrowsAttempted, low in freeThrowsPercentage, medium in pts_pct, low in ast_pct, medium in reb_pct, medium in stl_pct, low in blk_pct\n",
            "\n",
            "Cluster 4:\n",
            "- low in numMinutes, low in fieldGoalsAttempted, low in fieldGoalsPercentage, low in threePointersAttempted, low in threePointersPercentage, medium in freeThrowsAttempted, medium in freeThrowsPercentage, low in pts_pct, medium in ast_pct, high in reb_pct, high in stl_pct, low in blk_pct\n",
            "\n",
            "Cluster 5:\n",
            "- low in numMinutes, low in fieldGoalsAttempted, low in fieldGoalsPercentage, medium in threePointersAttempted, medium in threePointersPercentage, low in freeThrowsAttempted, low in freeThrowsPercentage, low in pts_pct, high in ast_pct, medium in reb_pct, medium in stl_pct, low in blk_pct\n",
            "\n",
            "Cluster 6:\n",
            "- medium in numMinutes, medium in fieldGoalsAttempted, medium in fieldGoalsPercentage, medium in threePointersAttempted, medium in threePointersPercentage, medium in freeThrowsAttempted, medium in freeThrowsPercentage, medium in pts_pct, medium in ast_pct, medium in reb_pct, medium in stl_pct, medium in blk_pct\n",
            "\n"
          ]
        }
      ]
    },
    {
      "cell_type": "markdown",
      "source": [
        "Analysis (Model Building and Training)\n",
        "Feature Scaling\n",
        "All selected and engineered features were scaled using StandardScaler to give each stat equal weight during clustering.\n",
        "\n",
        "Dimensionality Reduction with UMAP\n",
        "We used Uniform Manifold Approximation and Projection (UMAP) to reduce the data to three dimensions for visualization while preserving structural relationships in the high-dimensional space. UMAP was chosen over PCA and t-SNE due to its strong performance on structured numerical data and better cluster preservation.\n",
        "\n",
        "Clustering with KMeans\n",
        "We applied KMeans to the UMAP-reduced data.\n",
        "\n",
        "We used silhouette scoring to determine the optimal number of clusters, with a minimum of 6 required.\n",
        "\n",
        "Clusters with fewer than 10 players were discarded to focus on meaningful archetypes.\n",
        "\n",
        "Player names were preserved and sampled from each cluster for interpretability.\n",
        "\n"
      ],
      "metadata": {
        "id": "AQxNglZ_lMHq"
      },
      "id": "AQxNglZ_lMHq"
    },
    {
      "cell_type": "markdown",
      "source": [
        "Results\n",
        "The final model produced 7 distinct player clusters. Each cluster was characterized based on its median stat profile relative to the full dataset. Players were labeled with the season year for clarity (e.g., \"Kristaps Porzingis (2024)\").\n",
        "\n",
        "A 3D UMAP scatterplot was created with color-coded clusters and labeled sample players. Each cluster was summarized using \"high\", \"medium\", or \"low\" rankings for each stat based on quartile thresholds across all players."
      ],
      "metadata": {
        "id": "N9UuVqTUldP0"
      },
      "id": "N9UuVqTUldP0"
    },
    {
      "cell_type": "markdown",
      "id": "150fe0b5",
      "metadata": {
        "id": "150fe0b5"
      },
      "source": [
        "\n",
        "##  Conclusion\n",
        "\n",
        "This project applied unsupervised learning techniques to identify latent player roles based on in-game statistics from the 2024 NBA regular season. After engineering stat distribution features (e.g., pts_pct, ast_pct, reb_pct), we used UMAP for dimensionality reduction and KMeans clustering to reveal patterns in playstyle and performance.\n",
        "\n",
        "Summary of Cluster Archetypes\n",
        "Cluster 0 - Interior Anchors with Efficient Scoring\n",
        "Players like Rudy Gobert and Clint Capela stand out as defensive bigs who contribute efficient inside scoring. This group ranks high in field goal percentage and contributes across many stat areas without dominating any one category.\n",
        "\n",
        "Cluster 1 - Low-Usage Role Players\n",
        "Characterized by low minutes and low shooting volume, this group (e.g., Kevon Looney, Delon Wright) excels in rebounding and defense despite limited offensive production. Their moderate assist rates suggest playmaking from non-primary roles.\n",
        "\n",
        "Cluster 2 - High-Usage Offensive Engines\n",
        "Featuring players like Tyrese Haliburton, Ja Morant, and Brandon Ingram, this cluster shows high volume across all offensive metrics — scoring, shooting, and facilitating. These are offensive leaders with low rebounding presence.\n",
        "\n",
        "Cluster 3 - Low-Impact Reserves\n",
        "A mixed group with minimal statistical standout features. Players here (e.g., Kyle Anderson, Kevin Love) tend to have reduced roles or limited sample sizes, contributing in modest ways across several areas.\n",
        "\n",
        "Cluster 4 - Perimeter Defenders and Hustle Bigs\n",
        "Highlighted by Alex Caruso and Steven Adams, this group excels in rebounding and steals, suggesting scrappy defenders and bigs who rely on effort and positioning rather than offensive creation.\n",
        "\n",
        "Cluster 5 - High-Assist Low-Scoring Facilitators\n",
        "Players like Elfrid Payton and Tre Jones fit the mold of pass-first guards and connectors. While not primary scorers, they drive ball movement with high assist shares and moderate rebounding.\n",
        "\n",
        "Cluster 6 - Balanced Two-Way Wings\n",
        "Featuring Draymond Green, Mike Conley, and Jerami Grant, this cluster maintains balance across nearly all metrics. These players contribute on both ends without extreme highs or lows, making them valuable complementary pieces.\n",
        "\n",
        "Observations\n",
        "Cluster 0 illustrates how some archetypes emerge from overall statistical efficiency and not just raw volume.\n",
        "\n",
        "Cluster 1 and 3 likely reflect players with small roles or limited sample sizes; future analysis could weight by minutes or games played.\n",
        "\n",
        "Clusters appear cohesive in terms of playstyle, even when mixing positions, suggesting the dimensionality reduction and normalization steps were effective.\n",
        "\n",
        "Cluster labeling could be refined further with positional data or usage rates to improve interpretability."
      ]
    }
  ],
  "metadata": {
    "colab": {
      "provenance": []
    },
    "language_info": {
      "name": "python"
    },
    "kernelspec": {
      "name": "python3",
      "display_name": "Python 3"
    }
  },
  "nbformat": 4,
  "nbformat_minor": 5
}